{
 "cells": [
  {
   "cell_type": "markdown",
   "metadata": {},
   "source": [
    "# List comprehension and lambda"
   ]
  },
  {
   "cell_type": "markdown",
   "metadata": {},
   "source": [
    "### List comprehension\n",
    "\n",
    "List comprehension is one of our favourite features in Python. It is powerful and very useful.\n",
    "\n",
    "A list comprehension is a compact expression to define a whole set.  It can be used to construct lists in a very natural, easy way. \n",
    "\n",
    "While we could also do this using a for-loop, it's often more convenient to use a list comprehension. Let's go through five main types of list comprehension and it's comparison with for-loop.\n",
    "\n",
    "1) For-loop\n",
    "\n",
    "```python\n",
    "output = []\n",
    "for element in iterable:\n",
    "       output.append(expression(element))\n",
    "```\n",
    "\n",
    "The same gets implemented in a simple LC construct in a single line as:\n",
    "```python\n",
    "[expression(element) for element in iterable]\n",
    "```\n",
    "2) For-loop + if\n",
    "\n",
    "\n",
    "```python\n",
    "for element in iterable:\n",
    "     if condition(element): \n",
    "        output.append(expression(element))\n",
    "```\n",
    "\n",
    "The same gets implemented in a simple LC construct in a single line as:\n",
    "```python\n",
    "[expression(element) for element in iterable if condition(element)]\n",
    "```\n",
    "\n",
    "3) For-loop + if..else\n",
    "\n",
    "```python\n",
    "for element in iterable:\n",
    "     if condition(element): \n",
    "        output.append(expression1(element))\n",
    "    else:\n",
    "        output.append(expression2(element))\n",
    "        \n",
    "```\n",
    "\n",
    "The same gets implemented in a simple LC construct in a single line as:\n",
    "```python\n",
    "[expression(element) if condition(element) else another_expression(element) for element in iterable]\n",
    "```\n",
    "\n",
    "4) For-loop + multiple conditions\n",
    "\n",
    "We can also use list comprehension if we have more than 2 conditions:\n",
    "\n",
    "```python\n",
    "for element in iterable:\n",
    "     if condition1(element): \n",
    "        output.append(expression1(element))\n",
    "    elif condition2(element):\n",
    "        output.append(expression2(element))\n",
    "    else:\n",
    "        output.append(expression3(element))\n",
    "        \n",
    "```\n",
    "\n",
    "The same gets implemented in a simple LC construct in a single line as:\n",
    "```python\n",
    "[expression1(element) if condition1(element) else expression2(element) if condition2(element) else expression3(element) for element in iterable ]\n",
    "```\n",
    "\n",
    "5) Nested list comprehension\n",
    "\n",
    "We can have nested for loop which can alo be done in list comprehension\n",
    "\n",
    "```python\n",
    "output = []\n",
    "for x in l:\n",
    "  for y in x:\n",
    "    output.append(expression(y))```\n",
    "    \n",
    "The same gets implemented in a simple LC construct in a single line as:\n",
    "\n",
    "```python\n",
    "[expression(y) for x in l for y in x]```"
   ]
  },
  {
   "cell_type": "markdown",
   "metadata": {},
   "source": [
    "**1) For-loop**"
   ]
  },
  {
   "cell_type": "code",
   "execution_count": 2,
   "metadata": {},
   "outputs": [
    {
     "name": "stdout",
     "output_type": "stream",
     "text": [
      "[1, 4, 9, 16, 25, 36, 49, 64]\n",
      "[1, 4, 9, 16, 25, 36, 49, 64]\n"
     ]
    }
   ],
   "source": [
    "numbers = [1, 2, 3, 4, 5, 6, 7, 8]\n",
    "\n",
    "# without list comprehension\n",
    "squares = []\n",
    "for n in numbers:\n",
    "    squares.append(n*n)\n",
    "print(squares)\n",
    "\n",
    "# with list comprehension\n",
    "print([n*n for n in numbers])"
   ]
  },
  {
   "cell_type": "markdown",
   "metadata": {},
   "source": [
    "**2) For-loop + if**"
   ]
  },
  {
   "cell_type": "code",
   "execution_count": 3,
   "metadata": {},
   "outputs": [
    {
     "name": "stdout",
     "output_type": "stream",
     "text": [
      "[1, 4, 9, 16, 25]\n",
      "[1, 4, 9, 16, 25]\n"
     ]
    }
   ],
   "source": [
    "numbers = [1, 2, 3, 4, 5, 6, 7, 8]\n",
    "\n",
    "# without list comprehension\n",
    "output = []\n",
    "for n in numbers:\n",
    "    if n <= 5: \n",
    "        output.append(n*n)\n",
    "print(output)\n",
    "\n",
    "# with list comprehension\n",
    "print([n*n for n in numbers if n <= 5])"
   ]
  },
  {
   "cell_type": "markdown",
   "metadata": {},
   "source": [
    "**3) For-loop + if..else**"
   ]
  },
  {
   "cell_type": "code",
   "execution_count": 4,
   "metadata": {},
   "outputs": [
    {
     "name": "stdout",
     "output_type": "stream",
     "text": [
      "['odd', 'even', 'odd', 'even', 'odd', 'even', 'odd', 'even']\n",
      "['odd', 'even', 'odd', 'even', 'odd', 'even', 'odd', 'even']\n"
     ]
    }
   ],
   "source": [
    "numbers = [1, 2, 3, 4, 5, 6, 7, 8]\n",
    "\n",
    "# without list comprehension\n",
    "output = []\n",
    "for i in numbers:\n",
    "    if i%2 == 0:\n",
    "        output.append('even')\n",
    "    else:\n",
    "        output.append('odd')\n",
    "print(output)\n",
    "\n",
    "# with list comprehension\n",
    "print(['even' if i%2 == 0 else 'odd' for i in numbers])"
   ]
  },
  {
   "cell_type": "markdown",
   "metadata": {},
   "source": [
    "**4) For-loop + multiple conditions**"
   ]
  },
  {
   "cell_type": "code",
   "execution_count": 5,
   "metadata": {},
   "outputs": [
    {
     "name": "stdout",
     "output_type": "stream",
     "text": [
      "['less than 5', 5, 10, 8, 15, 'more than 20', 'more than 20', 'more than 20', 7]\n",
      "['less than 5', 5, 10, 8, 15, 'more than 20', 'more than 20', 'more than 20', 7]\n"
     ]
    }
   ],
   "source": [
    "numbers = [2, 5, 10, 8, 15, 23, 30, 50, 7]\n",
    "\n",
    "# without list comprehension\n",
    "output = []\n",
    "for i in numbers:\n",
    "    if i < 5:\n",
    "        output.append('less than 5')\n",
    "    elif i > 20:\n",
    "        output.append('more than 20')\n",
    "    else:\n",
    "        output.append(i)\n",
    "print(output)\n",
    "\n",
    "# with list comprehension\n",
    "print(['less than 5' if x<5 else 'more than 20' if x>20 else x for x in numbers])"
   ]
  },
  {
   "cell_type": "markdown",
   "metadata": {},
   "source": [
    "**5) Nested list comprehension**"
   ]
  },
  {
   "cell_type": "code",
   "execution_count": 6,
   "metadata": {},
   "outputs": [
    {
     "name": "stdout",
     "output_type": "stream",
     "text": [
      "[40.0, 20.0, 10.0, 30.0, 20.0, 20.0, 20.0, 20.0, 20.0, 30.0, 20.0, 30.0, 20.0, 30.0, 50.0, 10.0, 30.0, 20.0, 20.0, 20.0, 100.0, 100.0, 100.0, 100.0, 100.0, 100.0, 100.0, 100.0, 100.0, 100.0, 100.0]\n",
      "\n",
      "\n",
      "[40.0, 20.0, 10.0, 30.0, 20.0, 20.0, 20.0, 20.0, 20.0, 30.0, 20.0, 30.0, 20.0, 30.0, 50.0, 10.0, 30.0, 20.0, 20.0, 20.0, 100.0, 100.0, 100.0, 100.0, 100.0, 100.0, 100.0, 100.0, 100.0, 100.0, 100.0]\n"
     ]
    }
   ],
   "source": [
    "l = [['40', '20', '10', '30'], \n",
    "     ['20', '20', '20', '20', '20', '30', '20'], \n",
    "     ['30', '20', '30', '50', '10', '30', '20', '20', '20'], \n",
    "     ['100', '100'], ['100', '100', '100', '100', '100'], \n",
    "     ['100', '100', '100', '100']]\n",
    "\n",
    "# without list comprehension\n",
    "output = []\n",
    "for x in l:\n",
    "    for y in x:\n",
    "        output.append(float(y))\n",
    "print(output)\n",
    "print('\\n')\n",
    "\n",
    "# with list comprehension\n",
    "print([float(y) for x in l for y in x])\n"
   ]
  },
  {
   "cell_type": "markdown",
   "metadata": {},
   "source": [
    "## Modules\n",
    "\n",
    "Consider a module to be the same as a code library.\n",
    "\n",
    "A file containing a set of functions you want to include in your application. Now let's create our own module.\n",
    "\n",
    "Any file ending in `.py` is treated as a module\n",
    "(e.g., `my_module.py`, which names and defines two functions in the cell below)\n",
    "</div>\n",
    "\n",
    "Modules: own global names/functions so you can name things whatever you want there and not conflict with the names in other modules."
   ]
  },
  {
   "cell_type": "code",
   "execution_count": 7,
   "metadata": {},
   "outputs": [
    {
     "name": "stdout",
     "output_type": "stream",
     "text": [
      "Writing my_module.py\n"
     ]
    }
   ],
   "source": [
    "%%writefile my_module.py\n",
    "\n",
    "def mult_two(x, y):\n",
    "    return x * y\n",
    "\n",
    "def capitalize_string(string):\n",
    "    return string.capitalize()"
   ]
  },
  {
   "cell_type": "markdown",
   "metadata": {},
   "source": [
    "You can import module like this: <br/>\n",
    "import {module name} <br/>"
   ]
  },
  {
   "cell_type": "code",
   "execution_count": 8,
   "metadata": {},
   "outputs": [
    {
     "data": {
      "text/plain": [
       "4.0"
      ]
     },
     "execution_count": 8,
     "metadata": {},
     "output_type": "execute_result"
    }
   ],
   "source": [
    "# let's import a module called math\n",
    "\n",
    "import math\n",
    "math.sqrt(16) "
   ]
  },
  {
   "cell_type": "markdown",
   "metadata": {},
   "source": [
    "Now see we can use the `sqrt` method from math module. We can also import the method from the module:"
   ]
  },
  {
   "cell_type": "code",
   "execution_count": 9,
   "metadata": {},
   "outputs": [
    {
     "data": {
      "text/plain": [
       "4.0"
      ]
     },
     "execution_count": 9,
     "metadata": {},
     "output_type": "execute_result"
    }
   ],
   "source": [
    "from math import sqrt\n",
    "sqrt(16)"
   ]
  },
  {
   "cell_type": "markdown",
   "metadata": {},
   "source": [
    "Now, let's try to import our own module. Let's restart the kernel to clear our namespace. You can hit ```0``` two times to restart the kernel"
   ]
  },
  {
   "cell_type": "code",
   "execution_count": 10,
   "metadata": {},
   "outputs": [
    {
     "data": {
      "text/plain": [
       "6"
      ]
     },
     "execution_count": 10,
     "metadata": {},
     "output_type": "execute_result"
    }
   ],
   "source": [
    "from my_module import mult_two, capitalize_string\n",
    "\n",
    "mult_two(2,3)"
   ]
  },
  {
   "cell_type": "code",
   "execution_count": 11,
   "metadata": {},
   "outputs": [
    {
     "data": {
      "text/plain": [
       "'Bangsar'"
      ]
     },
     "execution_count": 11,
     "metadata": {},
     "output_type": "execute_result"
    }
   ],
   "source": [
    "capitalize_string(\"bangsar\")"
   ]
  },
  {
   "cell_type": "markdown",
   "metadata": {},
   "source": [
    "### Exercise - capitalize string\n",
    "\n",
    "Modify my_module.py ```capitalize_string``` function so that you can capitalize each word in a string. let's say you have a string \n",
    "```python \n",
    "string = \"the man who sold the world\"\n",
    "\n",
    "capitalize_string(string)\n",
    "output: \"The Man Who Sold The World\"\n",
    "```"
   ]
  },
  {
   "cell_type": "code",
   "execution_count": null,
   "metadata": {},
   "outputs": [],
   "source": []
  }
 ],
 "metadata": {
  "kernelspec": {
   "display_name": "yolo_pytorch",
   "language": "python",
   "name": "yolo_pytorch"
  },
  "language_info": {
   "codemirror_mode": {
    "name": "ipython",
    "version": 3
   },
   "file_extension": ".py",
   "mimetype": "text/x-python",
   "name": "python",
   "nbconvert_exporter": "python",
   "pygments_lexer": "ipython3",
   "version": "3.9.16"
  }
 },
 "nbformat": 4,
 "nbformat_minor": 4
}
